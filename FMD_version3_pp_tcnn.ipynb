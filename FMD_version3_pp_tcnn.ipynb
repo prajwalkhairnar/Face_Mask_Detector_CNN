{
  "nbformat": 4,
  "nbformat_minor": 0,
  "metadata": {
    "kernelspec": {
      "display_name": "Python 3",
      "language": "python",
      "name": "python3"
    },
    "language_info": {
      "codemirror_mode": {
        "name": "ipython",
        "version": 3
      },
      "file_extension": ".py",
      "mimetype": "text/x-python",
      "name": "python",
      "nbconvert_exporter": "python",
      "pygments_lexer": "ipython3",
      "version": "3.7.6"
    },
    "colab": {
      "name": "FMD_version3_pp_tcnn.ipynb",
      "provenance": [],
      "collapsed_sections": [
        "VN0Cp4U6Sz3j",
        "JfFlFZX_Szy4",
        "LYQdCJlXTUMf",
        "fSEkHM5pUCqt"
      ]
    }
  },
  "cells": [
    {
      "cell_type": "markdown",
      "metadata": {
        "id": "ZB11A5AoiMgz",
        "colab_type": "text"
      },
      "source": [
        "#**COVID - 19**\n",
        "\n",
        "#**Face Mask Detection using CNN (Convolutional Neural Network)**"
      ]
    },
    {
      "cell_type": "markdown",
      "metadata": {
        "id": "VN0Cp4U6Sz3j",
        "colab_type": "text"
      },
      "source": [
        "##**Preprocess the Dataset Images**"
      ]
    },
    {
      "cell_type": "markdown",
      "metadata": {
        "id": "JfFlFZX_Szy4",
        "colab_type": "text"
      },
      "source": [
        "####Importing Dataset"
      ]
    },
    {
      "cell_type": "code",
      "metadata": {
        "id": "RJ-hHHdHPzUl",
        "colab_type": "code",
        "colab": {
          "base_uri": "https://localhost:8080/",
          "height": 34
        },
        "outputId": "42acf5bd-7114-4f78-eee7-4965680b6b21"
      },
      "source": [
        "from google.colab import drive\n",
        "drive.mount('/content/drive')"
      ],
      "execution_count": null,
      "outputs": [
        {
          "output_type": "stream",
          "text": [
            "Drive already mounted at /content/drive; to attempt to forcibly remount, call drive.mount(\"/content/drive\", force_remount=True).\n"
          ],
          "name": "stdout"
        }
      ]
    },
    {
      "cell_type": "code",
      "metadata": {
        "id": "fVnkvoYNy-5R",
        "colab_type": "code",
        "colab": {
          "base_uri": "https://localhost:8080/",
          "height": 69
        },
        "outputId": "a6e52772-7904-4bb3-cc21-2f99d81e85a8"
      },
      "source": [
        "import cv2,os\n",
        "\n",
        "data_path='/content/drive/My Drive/Colab Notebooks/Face Mask Detector/dataset'\n",
        "categories=os.listdir(data_path)\n",
        "labels=[i for i in range(len(categories))]\n",
        "\n",
        "label_dict=dict(zip(categories,labels)) #empty dictionary\n",
        "\n",
        "print(label_dict)\n",
        "print(categories)\n",
        "print(labels)"
      ],
      "execution_count": null,
      "outputs": [
        {
          "output_type": "stream",
          "text": [
            "{'without mask': 0, 'with mask': 1}\n",
            "['without mask', 'with mask']\n",
            "[0, 1]\n"
          ],
          "name": "stdout"
        }
      ]
    },
    {
      "cell_type": "markdown",
      "metadata": {
        "id": "LYQdCJlXTUMf",
        "colab_type": "text"
      },
      "source": [
        "####Preprocessing\n",
        "\n",
        "Converting to grayscale image, Resizing image"
      ]
    },
    {
      "cell_type": "code",
      "metadata": {
        "id": "DQVpHE22y-5Z",
        "colab_type": "code",
        "colab": {
          "base_uri": "https://localhost:8080/",
          "height": 86
        },
        "outputId": "de9e1596-021e-4022-eb66-d302cc12324c"
      },
      "source": [
        "img_size=100\n",
        "data=[]\n",
        "target=[]\n",
        "\n",
        "\n",
        "for category in categories:\n",
        "    folder_path=os.path.join(data_path,category)\n",
        "    img_names=os.listdir(folder_path)\n",
        "        \n",
        "    for img_name in img_names:\n",
        "        img_path=os.path.join(folder_path,img_name)\n",
        "        img=cv2.imread(img_path)\n",
        "\n",
        "        try:\n",
        "            gray=cv2.cvtColor(img,cv2.COLOR_BGR2GRAY)           \n",
        "            #Coverting into gray scale\n",
        "            \n",
        "            resized=cv2.resize(gray,(img_size,img_size))\n",
        "            #resizing the gray scale into 50x50, FIXED SIZE for all the images in the dataset\n",
        "            \n",
        "            data.append(resized)\n",
        "            target.append(label_dict[category])\n",
        "            #appending the image and the label(categorized) into the list (dataset)\n",
        "\n",
        "        except Exception as e:\n",
        "            print('Exception:',e)\n",
        "            "
      ],
      "execution_count": null,
      "outputs": [
        {
          "output_type": "stream",
          "text": [
            "Exception: OpenCV(4.1.2) /io/opencv/modules/imgproc/src/color.cpp:182: error: (-215:Assertion failed) !_src.empty() in function 'cvtColor'\n",
            "\n",
            "Exception: OpenCV(4.1.2) /io/opencv/modules/imgproc/src/color.cpp:182: error: (-215:Assertion failed) !_src.empty() in function 'cvtColor'\n",
            "\n"
          ],
          "name": "stdout"
        }
      ]
    },
    {
      "cell_type": "code",
      "metadata": {
        "id": "RS9D2cnhy-5d",
        "colab_type": "code",
        "colab": {
          "base_uri": "https://localhost:8080/",
          "height": 34
        },
        "outputId": "df0ab4ab-fe04-4855-880b-2b58b9890ff9"
      },
      "source": [
        "import numpy as np\n",
        "\n",
        "data=np.array(data)/255.0\n",
        "data=np.reshape(data,(data.shape[0],img_size,img_size,1))\n",
        "target=np.array(target)\n",
        "\n",
        "from keras.utils import np_utils\n",
        "\n",
        "\n",
        "new_target=np_utils.to_categorical(target)"
      ],
      "execution_count": null,
      "outputs": [
        {
          "output_type": "stream",
          "text": [
            "Using TensorFlow backend.\n"
          ],
          "name": "stderr"
        }
      ]
    },
    {
      "cell_type": "markdown",
      "metadata": {
        "id": "fSEkHM5pUCqt",
        "colab_type": "text"
      },
      "source": [
        "####Saving Preprocessed dataset files"
      ]
    },
    {
      "cell_type": "code",
      "metadata": {
        "id": "6xEmvs02y-5i",
        "colab_type": "code",
        "colab": {}
      },
      "source": [
        "np.save('data',data)\n",
        "np.save('target',new_target)"
      ],
      "execution_count": null,
      "outputs": []
    },
    {
      "cell_type": "markdown",
      "metadata": {
        "id": "74h1OtlTZtFa",
        "colab_type": "text"
      },
      "source": [
        "."
      ]
    },
    {
      "cell_type": "markdown",
      "metadata": {
        "id": "sYkDCBXYZszU",
        "colab_type": "text"
      },
      "source": [
        "."
      ]
    },
    {
      "cell_type": "markdown",
      "metadata": {
        "id": "12HQK8psZsjO",
        "colab_type": "text"
      },
      "source": [
        "##**Training Convolutional Neural Network (CNN)**"
      ]
    },
    {
      "cell_type": "code",
      "metadata": {
        "id": "2kOkZ6DwZyv9",
        "colab_type": "code",
        "colab": {}
      },
      "source": [
        "target = new_target"
      ],
      "execution_count": null,
      "outputs": []
    },
    {
      "cell_type": "code",
      "metadata": {
        "id": "5UV8-X2GZ8gr",
        "colab_type": "code",
        "colab": {}
      },
      "source": [
        "from keras.models import Sequential\n",
        "from keras.layers import Dense,Activation,Flatten,Dropout\n",
        "from keras.layers import Conv2D,MaxPooling2D\n",
        "from keras.callbacks import ModelCheckpoint"
      ],
      "execution_count": null,
      "outputs": []
    },
    {
      "cell_type": "markdown",
      "metadata": {
        "id": "QQ9HVJuhduHt",
        "colab_type": "text"
      },
      "source": [
        "Initializing the model"
      ]
    },
    {
      "cell_type": "code",
      "metadata": {
        "id": "YOFyY8OWaAnk",
        "colab_type": "code",
        "colab": {}
      },
      "source": [
        "model=Sequential()"
      ],
      "execution_count": null,
      "outputs": []
    },
    {
      "cell_type": "markdown",
      "metadata": {
        "id": "WwVDmK-edyA7",
        "colab_type": "text"
      },
      "source": [
        "Adding Layers"
      ]
    },
    {
      "cell_type": "code",
      "metadata": {
        "id": "1kmrb4AraDl2",
        "colab_type": "code",
        "colab": {}
      },
      "source": [
        "#CNN layer 1 , Relu and MaxPooling layers\n",
        "model.add(Conv2D(200,(3,3),input_shape=data.shape[1:]))\n",
        "model.add(Activation('relu'))\n",
        "model.add(MaxPooling2D(pool_size=(2,2)))\n",
        "\n",
        "#CNN layer 2 , Relu and MaxPooling layers\n",
        "model.add(Conv2D(100,(3,3)))\n",
        "model.add(Activation('relu'))\n",
        "model.add(MaxPooling2D(pool_size=(2,2)))\n",
        "\n",
        "#Flatten layer to stack the output convolutions from CNN layer 2\n",
        "model.add(Flatten())\n",
        "model.add(Dropout(0.5))\n",
        "\n",
        "#Dense layer : 55 neurons\n",
        "model.add(Dense(55,activation='relu'))\n",
        "\n",
        "# Output Layer : 2 categories\n",
        "model.add(Dense(2,activation='softmax'))\n",
        "\n",
        "model.compile(loss='categorical_crossentropy',optimizer='adam',metrics=['accuracy'])"
      ],
      "execution_count": null,
      "outputs": []
    },
    {
      "cell_type": "markdown",
      "metadata": {
        "id": "uLPV7RODd0dk",
        "colab_type": "text"
      },
      "source": [
        "Split the dataset into training and testing data"
      ]
    },
    {
      "cell_type": "code",
      "metadata": {
        "id": "b1wWwsOCbEax",
        "colab_type": "code",
        "colab": {}
      },
      "source": [
        "from sklearn.model_selection import train_test_split\n",
        "train_data,test_data,train_target,test_target=train_test_split(data,target,test_size=0.1)"
      ],
      "execution_count": null,
      "outputs": []
    },
    {
      "cell_type": "markdown",
      "metadata": {
        "id": "64w_9Am7d5JD",
        "colab_type": "text"
      },
      "source": [
        "Train the model"
      ]
    },
    {
      "cell_type": "code",
      "metadata": {
        "id": "5D6cUVRqbETm",
        "colab_type": "code",
        "colab": {
          "base_uri": "https://localhost:8080/",
          "height": 728
        },
        "outputId": "3c2cdada-a1d8-4c8e-da49-ffbaf1686c40"
      },
      "source": [
        "checkpoint = ModelCheckpoint('model-{epoch:03d}.model',monitor='val_loss',verbose=0,save_best_only=True,mode='auto')\n",
        "history=model.fit(train_data,train_target,epochs=20,callbacks=[checkpoint],validation_split=0.2)"
      ],
      "execution_count": null,
      "outputs": [
        {
          "output_type": "stream",
          "text": [
            "Train on 256 samples, validate on 64 samples\n",
            "Epoch 1/20\n",
            "256/256 [==============================] - 21s 81ms/step - loss: 0.7186 - accuracy: 0.5352 - val_loss: 0.6918 - val_accuracy: 0.5000\n",
            "Epoch 2/20\n",
            "256/256 [==============================] - 20s 77ms/step - loss: 0.6872 - accuracy: 0.5430 - val_loss: 0.6796 - val_accuracy: 0.5000\n",
            "Epoch 3/20\n",
            "256/256 [==============================] - 20s 76ms/step - loss: 0.6634 - accuracy: 0.6055 - val_loss: 0.6903 - val_accuracy: 0.5156\n",
            "Epoch 4/20\n",
            "256/256 [==============================] - 20s 78ms/step - loss: 0.6285 - accuracy: 0.5977 - val_loss: 0.5544 - val_accuracy: 0.7812\n",
            "Epoch 5/20\n",
            "256/256 [==============================] - 20s 78ms/step - loss: 0.4922 - accuracy: 0.7852 - val_loss: 0.5212 - val_accuracy: 0.7188\n",
            "Epoch 6/20\n",
            "256/256 [==============================] - 20s 79ms/step - loss: 0.3884 - accuracy: 0.8281 - val_loss: 0.3688 - val_accuracy: 0.8594\n",
            "Epoch 7/20\n",
            "256/256 [==============================] - 20s 79ms/step - loss: 0.3551 - accuracy: 0.8672 - val_loss: 0.3244 - val_accuracy: 0.8594\n",
            "Epoch 8/20\n",
            "256/256 [==============================] - 20s 79ms/step - loss: 0.2894 - accuracy: 0.8828 - val_loss: 0.3390 - val_accuracy: 0.8594\n",
            "Epoch 9/20\n",
            "256/256 [==============================] - 20s 79ms/step - loss: 0.2928 - accuracy: 0.8750 - val_loss: 0.3476 - val_accuracy: 0.8750\n",
            "Epoch 10/20\n",
            "256/256 [==============================] - 20s 78ms/step - loss: 0.2779 - accuracy: 0.8828 - val_loss: 0.3728 - val_accuracy: 0.8594\n",
            "Epoch 11/20\n",
            "256/256 [==============================] - 20s 78ms/step - loss: 0.2068 - accuracy: 0.9102 - val_loss: 0.3665 - val_accuracy: 0.8906\n",
            "Epoch 12/20\n",
            "256/256 [==============================] - 20s 78ms/step - loss: 0.1686 - accuracy: 0.9336 - val_loss: 0.4052 - val_accuracy: 0.8125\n",
            "Epoch 13/20\n",
            "256/256 [==============================] - 20s 79ms/step - loss: 0.1363 - accuracy: 0.9609 - val_loss: 0.3717 - val_accuracy: 0.8594\n",
            "Epoch 14/20\n",
            "256/256 [==============================] - 20s 78ms/step - loss: 0.1544 - accuracy: 0.9258 - val_loss: 0.4637 - val_accuracy: 0.7969\n",
            "Epoch 15/20\n",
            "256/256 [==============================] - 20s 78ms/step - loss: 0.1343 - accuracy: 0.9453 - val_loss: 0.4465 - val_accuracy: 0.7969\n",
            "Epoch 16/20\n",
            "256/256 [==============================] - 20s 77ms/step - loss: 0.1163 - accuracy: 0.9688 - val_loss: 0.4250 - val_accuracy: 0.8594\n",
            "Epoch 17/20\n",
            "256/256 [==============================] - 20s 77ms/step - loss: 0.0838 - accuracy: 0.9727 - val_loss: 0.3957 - val_accuracy: 0.8438\n",
            "Epoch 18/20\n",
            "256/256 [==============================] - 20s 77ms/step - loss: 0.0788 - accuracy: 0.9688 - val_loss: 0.4362 - val_accuracy: 0.8750\n",
            "Epoch 19/20\n",
            "256/256 [==============================] - 20s 77ms/step - loss: 0.0882 - accuracy: 0.9609 - val_loss: 0.3554 - val_accuracy: 0.8750\n",
            "Epoch 20/20\n",
            "256/256 [==============================] - 20s 78ms/step - loss: 0.0691 - accuracy: 0.9844 - val_loss: 0.5094 - val_accuracy: 0.8906\n"
          ],
          "name": "stdout"
        }
      ]
    },
    {
      "cell_type": "markdown",
      "metadata": {
        "id": "umK8hz63SyI6",
        "colab_type": "text"
      },
      "source": [
        "Visualizing Model Performance"
      ]
    },
    {
      "cell_type": "code",
      "metadata": {
        "id": "DqfBzs9hbELZ",
        "colab_type": "code",
        "colab": {
          "base_uri": "https://localhost:8080/",
          "height": 278
        },
        "outputId": "7867083b-4c3d-4e1d-f134-83faf32b8afe"
      },
      "source": [
        "from matplotlib import pyplot as plt\n",
        "\n",
        "plt.plot(history.history['loss'],'r',label='training loss')\n",
        "plt.plot(history.history['val_loss'],label='validation loss')\n",
        "plt.xlabel('# epochs')\n",
        "plt.ylabel('loss')\n",
        "plt.legend()\n",
        "plt.show()"
      ],
      "execution_count": null,
      "outputs": [
        {
          "output_type": "display_data",
          "data": {
            "image/png": "[encoded data removed]",
            "text/plain": [
              "<Figure size 432x288 with 1 Axes>"
            ]
          },
          "metadata": {
            "tags": [],
            "needs_background": "light"
          }
        }
      ]
    },
    {
      "cell_type": "code",
      "metadata": {
        "id": "Z8bKqxKIbD-G",
        "colab_type": "code",
        "colab": {
          "base_uri": "https://localhost:8080/",
          "height": 280
        },
        "outputId": "35353a4a-91a4-4d84-87e2-1da042dfc83d"
      },
      "source": [
        "plt.plot(history.history['accuracy'],'r',label='training accuracy')\n",
        "plt.plot(history.history['val_accuracy'],label='validation accuracy')\n",
        "plt.xlabel('# epochs')\n",
        "plt.ylabel('loss')\n",
        "plt.legend()\n",
        "plt.show()"
      ],
      "execution_count": null,
      "outputs": [
        {
          "output_type": "display_data",
          "data": {
            "image/png": "[encoded data removed]",
            "text/plain": [
              "<Figure size 432x288 with 1 Axes>"
            ]
          },
          "metadata": {
            "tags": [],
            "needs_background": "light"
          }
        }
      ]
    },
    {
      "cell_type": "code",
      "metadata": {
        "id": "9AQS6iiHdSRY",
        "colab_type": "code",
        "colab": {
          "base_uri": "https://localhost:8080/",
          "height": 52
        },
        "outputId": "9f998f43-7da3-444d-a43d-1425166e7925"
      },
      "source": [
        "print(model.evaluate(test_data,test_target))"
      ],
      "execution_count": null,
      "outputs": [
        {
          "output_type": "stream",
          "text": [
            "36/36 [==============================] - 1s 20ms/step\n",
            "[0.2261280363632573, 0.8888888955116272]\n"
          ],
          "name": "stdout"
        }
      ]
    },
    {
      "cell_type": "markdown",
      "metadata": {
        "id": "MrBEodengU1F",
        "colab_type": "text"
      },
      "source": [
        ".\n",
        "\n",
        "**Test Loss** : 0.2261280363632573\n",
        "\n",
        "**Test Accuracy** : 0.8888888955116272\n",
        "\n",
        ".\n"
      ]
    }
  ]
}